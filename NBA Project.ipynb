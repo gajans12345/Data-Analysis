{
 "cells": [
  {
   "cell_type": "code",
   "execution_count": 19,
   "id": "e708ead6-af4f-4918-bc23-4a7a93dec7f4",
   "metadata": {},
   "outputs": [],
   "source": [
    "import pandas as pd\n",
    "import requests\n",
    "pd.set_option('display.max_columns',None)\n",
    "import time\n",
    "import numpy as np"
   ]
  },
  {
   "cell_type": "code",
   "execution_count": 23,
   "id": "abe30646-fe4e-4283-9077-e4d895f54057",
   "metadata": {},
   "outputs": [],
   "source": [
    "headers = r['resultSet']['headers']"
   ]
  },
  {
   "cell_type": "code",
   "execution_count": 35,
   "id": "9fbc9edb-451f-4e8a-ac33-c884d89d39e8",
   "metadata": {},
   "outputs": [],
   "source": [
    "new_headers = ['Year','SeasonType'] + headers"
   ]
  },
  {
   "cell_type": "code",
   "execution_count": 38,
   "id": "af796f17-8596-4ef5-9b7f-6d433c636ec0",
   "metadata": {},
   "outputs": [],
   "source": [
    "api = {\n",
    "    'Accept': '*/*',\n",
    "    'Accept-Encoding': 'gzip, deflate, br, zstd',\n",
    "    'Accept-Language': 'en-US,en;q=0.9',\n",
    "    'Connection': 'keep-alive',\n",
    "    'Host': 'stats.nba.com',\n",
    "    'Origin': 'https://www.nba.com',\n",
    "    'Referer': 'https://www.nba.com/',\n",
    "    'Sec-Ch-Ua': '\"Chromium\";v=\"124\", \"Google Chrome\";v=\"124\", \"Not-A.Brand\";v=\"99\"',\n",
    "    'Sec-Ch-Ua-Mobile': '?0',\n",
    "    'Sec-Ch-Ua-Platform': '\"Windows\"',\n",
    "    'Sec-Fetch-Dest': 'empty',\n",
    "    'Sec-Fetch-Mode': 'cors',\n",
    "    'Sec-Fetch-Site': 'same-site',\n",
    "    'User-Agent': 'Mozilla/5.0 (Windows NT 10.0; Win64; x64) AppleWebKit/537.36 (KHTML, like Gecko) Chrome/124.0.0.0 Safari/537.36'\n",
    "}\n"
   ]
  },
  {
   "cell_type": "code",
   "execution_count": 56,
   "id": "5f9e1b10-2eae-4771-a950-4a7182247ec6",
   "metadata": {},
   "outputs": [
    {
     "name": "stderr",
     "output_type": "stream",
     "text": [
      "C:\\Users\\sutha\\AppData\\Local\\Temp\\ipykernel_13624\\2057634513.py:12: FutureWarning: The behavior of DataFrame concatenation with empty or all-NA entries is deprecated. In a future version, this will no longer exclude empty or all-NA columns when determining the result dtypes. To retain the old behavior, exclude the relevant entries before the concat operation.\n",
      "  frame = pd.concat([frame, three], axis=0)\n"
     ]
    },
    {
     "name": "stdout",
     "output_type": "stream",
     "text": [
      "Finished scraping data for the 2016-17 Regular%20Season\n",
      "waiting24.8 seconds\n",
      "Finished scraping data for the 2016-17 Playoffs\n",
      "waiting36.1 seconds\n",
      "Finished scraping data for the 2017-18 Regular%20Season\n",
      "waiting25.0 seconds\n",
      "Finished scraping data for the 2017-18 Playoffs\n",
      "waiting20.0 seconds\n",
      "Finished scraping data for the 2018-19 Regular%20Season\n",
      "waiting28.2 seconds\n",
      "Finished scraping data for the 2018-19 Playoffs\n",
      "waiting36.4 seconds\n",
      "Finished scraping data for the 2019-20 Regular%20Season\n",
      "waiting14.7 seconds\n",
      "Finished scraping data for the 2019-20 Playoffs\n",
      "waiting37.9 seconds\n",
      "Finished scraping data for the 2020-21 Regular%20Season\n",
      "waiting13.3 seconds\n",
      "Finished scraping data for the 2020-21 Playoffs\n",
      "waiting22.2 seconds\n",
      "Finished scraping data for the 2021-22 Regular%20Season\n",
      "waiting23.6 seconds\n",
      "Finished scraping data for the 2021-22 Playoffs\n",
      "waiting33.1 seconds\n",
      "Finished scraping data for the 2022-23 Regular%20Season\n",
      "waiting38.6 seconds\n",
      "Finished scraping data for the 2022-23 Playoffs\n",
      "waiting26.9 seconds\n",
      "Process completed!\n"
     ]
    }
   ],
   "source": [
    "frame = pd.DataFrame(columns=new_headers)\n",
    "seasonType = ['Regular%20Season','Playoffs']\n",
    "years = ['2016-17','2017-18','2018-19','2019-20','2020-21','2021-22','2022-23']\n",
    "for year in years:\n",
    "    for season in seasonType:\n",
    "        new_url = 'https://stats.nba.com/stats/leagueLeaders?LeagueID=00&PerMode=PerGame&Scope=S&Season='+year+'&SeasonType='+season+'&StatCategory=PTS'\n",
    "        v = requests.get(url=new_url,headers=api).json()\n",
    "        temp_data = pd.DataFrame(v['resultSet']['rowSet'],columns=headers)\n",
    "        temp_df2 = pd.DataFrame({'Year':[year for i in range(len(temp_data))],'SeasonType':[season for i in range(len(temp_data))]})\n",
    "        three = pd.concat([temp_df2,temp_data],axis=1)\n",
    "        frame = pd.concat([frame, three], axis=0)\n",
    "\n",
    "\n",
    "print(\"Process completed!\")\n"
   ]
  },
  {
   "cell_type": "code",
   "execution_count": 59,
   "id": "3d812762-4464-4e64-aa44-47bf5b5de11d",
   "metadata": {},
   "outputs": [],
   "source": [
    "frame['SeasonType'].replace('Regular%20Season', 'Regular Season', inplace=True)"
   ]
  },
  {
   "cell_type": "code",
   "execution_count": 61,
   "id": "c0a608b3-f0a1-4f56-90b0-7b13fa49d17b",
   "metadata": {},
   "outputs": [],
   "source": [
    "with pd.ExcelWriter('NBA.xlsx')  as writer:\n",
    "    frame.to_excel(writer,sheet_name='first')"
   ]
  },
  {
   "cell_type": "code",
   "execution_count": null,
   "id": "bf6a70d0-bfa3-4c72-848a-6bfa1225824e",
   "metadata": {},
   "outputs": [],
   "source": []
  }
 ],
 "metadata": {
  "kernelspec": {
   "display_name": "Python 3 (ipykernel)",
   "language": "python",
   "name": "python3"
  },
  "language_info": {
   "codemirror_mode": {
    "name": "ipython",
    "version": 3
   },
   "file_extension": ".py",
   "mimetype": "text/x-python",
   "name": "python",
   "nbconvert_exporter": "python",
   "pygments_lexer": "ipython3",
   "version": "3.11.7"
  }
 },
 "nbformat": 4,
 "nbformat_minor": 5
}
